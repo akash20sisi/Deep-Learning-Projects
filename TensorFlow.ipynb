{
  "nbformat": 4,
  "nbformat_minor": 0,
  "metadata": {
    "colab": {
      "provenance": [],
      "gpuType": "T4"
    },
    "kernelspec": {
      "name": "python3",
      "display_name": "Python 3"
    },
    "language_info": {
      "name": "python"
    },
    "accelerator": "GPU"
  },
  "cells": [
    {
      "cell_type": "markdown",
      "source": [
        "# Constant tensors and variables."
      ],
      "metadata": {
        "id": "7zoY0DXKFodX"
      }
    },
    {
      "cell_type": "code",
      "execution_count": null,
      "metadata": {
        "id": "5qJb-7c1E30Y"
      },
      "outputs": [],
      "source": [
        "import tensorflow as tf\n",
        "import numpy as np"
      ]
    },
    {
      "cell_type": "code",
      "source": [
        "x = tf.ones((2,3))\n",
        "print(x)"
      ],
      "metadata": {
        "colab": {
          "base_uri": "https://localhost:8080/"
        },
        "id": "hpCqmpmpFrY5",
        "outputId": "45292a87-2425-48e5-ab3b-1e6a29437183"
      },
      "execution_count": null,
      "outputs": [
        {
          "output_type": "stream",
          "name": "stdout",
          "text": [
            "tf.Tensor(\n",
            "[[1. 1. 1.]\n",
            " [1. 1. 1.]], shape=(2, 3), dtype=float32)\n"
          ]
        }
      ]
    },
    {
      "cell_type": "code",
      "source": [
        "x = tf.eye(2,3)\n",
        "print(x)"
      ],
      "metadata": {
        "colab": {
          "base_uri": "https://localhost:8080/"
        },
        "id": "CapASaKAH66-",
        "outputId": "edf487ca-2b03-4198-97f8-ac72992e81b8"
      },
      "execution_count": null,
      "outputs": [
        {
          "output_type": "stream",
          "name": "stdout",
          "text": [
            "tf.Tensor(\n",
            "[[1. 0. 0.]\n",
            " [0. 1. 0.]], shape=(2, 3), dtype=float32)\n"
          ]
        }
      ]
    },
    {
      "cell_type": "code",
      "source": [
        "x = tf.random.normal((2,3))\n",
        "print(x)"
      ],
      "metadata": {
        "colab": {
          "base_uri": "https://localhost:8080/"
        },
        "id": "9SBjUPHJIG7h",
        "outputId": "b243d919-91ad-41fb-8de4-386ec72bb39d"
      },
      "execution_count": null,
      "outputs": [
        {
          "output_type": "stream",
          "name": "stdout",
          "text": [
            "tf.Tensor(\n",
            "[[-0.83947265 -0.991643   -0.15605308]\n",
            " [-0.6699415  -0.35897702 -0.9102111 ]], shape=(2, 3), dtype=float32)\n"
          ]
        }
      ]
    },
    {
      "cell_type": "code",
      "source": [
        "x = tf.random.uniform((2,3),minval=-1,maxval=1)\n",
        "print(x)"
      ],
      "metadata": {
        "colab": {
          "base_uri": "https://localhost:8080/"
        },
        "id": "74yzi4VbIRYU",
        "outputId": "1f3e1702-4504-4b0e-de40-42cece8a6714"
      },
      "execution_count": null,
      "outputs": [
        {
          "output_type": "stream",
          "name": "stdout",
          "text": [
            "tf.Tensor(\n",
            "[[-0.37406325  0.27041984 -0.91739774]\n",
            " [ 0.3316865  -0.12715101 -0.950758  ]], shape=(2, 3), dtype=float32)\n"
          ]
        }
      ]
    },
    {
      "cell_type": "markdown",
      "source": [
        "**A significant difference between NumPy arrays and TensorFlow tensors is that TensorFlow tensors aren’t assignable: they’re constant. For instance, in NumPy, you can do\n",
        "the following.**"
      ],
      "metadata": {
        "id": "CVI7cDCsIwWk"
      }
    },
    {
      "cell_type": "code",
      "source": [
        "x = np.ones((2,1))\n",
        "x"
      ],
      "metadata": {
        "colab": {
          "base_uri": "https://localhost:8080/"
        },
        "id": "zWgKZARHIkNW",
        "outputId": "7aec5aa4-c25c-43a0-8101-42048225fdef"
      },
      "execution_count": null,
      "outputs": [
        {
          "output_type": "execute_result",
          "data": {
            "text/plain": [
              "array([[1.],\n",
              "       [1.]])"
            ]
          },
          "metadata": {},
          "execution_count": 23
        }
      ]
    },
    {
      "cell_type": "code",
      "source": [
        "x[0,0] =0"
      ],
      "metadata": {
        "id": "QXlWdpK2Ilfo"
      },
      "execution_count": null,
      "outputs": []
    },
    {
      "cell_type": "code",
      "source": [
        "x"
      ],
      "metadata": {
        "colab": {
          "base_uri": "https://localhost:8080/"
        },
        "id": "iV92qBrFI-lg",
        "outputId": "b419a146-1934-4578-fa03-1854199f1271"
      },
      "execution_count": null,
      "outputs": [
        {
          "output_type": "execute_result",
          "data": {
            "text/plain": [
              "array([[0.],\n",
              "       [1.]])"
            ]
          },
          "metadata": {},
          "execution_count": 28
        }
      ]
    },
    {
      "cell_type": "code",
      "source": [
        "x = tf.ones((2,1))\n",
        "x"
      ],
      "metadata": {
        "colab": {
          "base_uri": "https://localhost:8080/"
        },
        "id": "QSp1I2ZOJAwc",
        "outputId": "661c2ce4-e541-4bdb-d440-fb4cac6226c8"
      },
      "execution_count": null,
      "outputs": [
        {
          "output_type": "execute_result",
          "data": {
            "text/plain": [
              "<tf.Tensor: shape=(2, 1), dtype=float32, numpy=\n",
              "array([[1.],\n",
              "       [1.]], dtype=float32)>"
            ]
          },
          "metadata": {},
          "execution_count": 29
        }
      ]
    },
    {
      "cell_type": "code",
      "source": [
        "# x[0,0] = 0 will give type error"
      ],
      "metadata": {
        "id": "wqMGgyUBJIQs"
      },
      "execution_count": null,
      "outputs": []
    },
    {
      "cell_type": "markdown",
      "source": [
        "**To train a model, we’ll need to update its state, which is a set of tensors. If tensors\n",
        "aren’t assignable, how do we do it? That’s where variables come in. tf.Variable is the\n",
        "class meant to manage modifiable state in TensorFlow.**"
      ],
      "metadata": {
        "id": "CrXi2fi4JhOl"
      }
    },
    {
      "cell_type": "markdown",
      "source": [
        "**Creating a TensorFlow variable**"
      ],
      "metadata": {
        "id": "3kvZeZNXJ7Rj"
      }
    },
    {
      "cell_type": "code",
      "source": [
        "v = tf.Variable(initial_value = tf.random.normal((3,2)))"
      ],
      "metadata": {
        "id": "EDHakExRJJmO"
      },
      "execution_count": null,
      "outputs": []
    },
    {
      "cell_type": "code",
      "source": [
        "print(v)"
      ],
      "metadata": {
        "colab": {
          "base_uri": "https://localhost:8080/"
        },
        "id": "gySM2lJmKOZw",
        "outputId": "403889ff-aa5b-4de8-c676-eea2b5e45587"
      },
      "execution_count": null,
      "outputs": [
        {
          "output_type": "stream",
          "name": "stdout",
          "text": [
            "<tf.Variable 'Variable:0' shape=(3, 2) dtype=float32, numpy=\n",
            "array([[-1.4996406 , -0.6395351 ],\n",
            "       [-0.2575096 , -1.2196172 ],\n",
            "       [ 1.4159148 ,  0.34798637]], dtype=float32)>\n"
          ]
        }
      ]
    },
    {
      "cell_type": "markdown",
      "source": [
        "**Assigning a value to a TensorFlow variable**"
      ],
      "metadata": {
        "id": "MFpA08jnKfag"
      }
    },
    {
      "cell_type": "code",
      "source": [
        "v.assign(tf.ones((3,2)))"
      ],
      "metadata": {
        "colab": {
          "base_uri": "https://localhost:8080/"
        },
        "id": "j-a4sxNkKWNw",
        "outputId": "2b745bdf-1814-4390-e0a5-33117d1a7dca"
      },
      "execution_count": null,
      "outputs": [
        {
          "output_type": "execute_result",
          "data": {
            "text/plain": [
              "<tf.Variable 'UnreadVariable' shape=(3, 2) dtype=float32, numpy=\n",
              "array([[1., 1.],\n",
              "       [1., 1.],\n",
              "       [1., 1.]], dtype=float32)>"
            ]
          },
          "metadata": {},
          "execution_count": 42
        }
      ]
    },
    {
      "cell_type": "markdown",
      "source": [
        "**Assigning a value to a subset of a TensorFlow variable**"
      ],
      "metadata": {
        "id": "M4yLn5B7LAPQ"
      }
    },
    {
      "cell_type": "code",
      "source": [
        "v[0,0].assign(4)"
      ],
      "metadata": {
        "colab": {
          "base_uri": "https://localhost:8080/"
        },
        "id": "plDiKywAKbqk",
        "outputId": "2b59f10a-ddc5-4867-fd56-a43202a01455"
      },
      "execution_count": null,
      "outputs": [
        {
          "output_type": "execute_result",
          "data": {
            "text/plain": [
              "<tf.Variable 'UnreadVariable' shape=(3, 2) dtype=float32, numpy=\n",
              "array([[4., 1.],\n",
              "       [1., 1.],\n",
              "       [1., 1.]], dtype=float32)>"
            ]
          },
          "metadata": {},
          "execution_count": 43
        }
      ]
    },
    {
      "cell_type": "markdown",
      "source": [
        "**Similarly, assign_add() and assign_sub() are efficient equivalents of += and -=**"
      ],
      "metadata": {
        "id": "sMlhBsDRLNpR"
      }
    },
    {
      "cell_type": "code",
      "source": [
        "v.assign_add(tf.ones((3,2)))"
      ],
      "metadata": {
        "colab": {
          "base_uri": "https://localhost:8080/"
        },
        "id": "iEN297XPLIdy",
        "outputId": "bcee00ae-9271-4345-ca8c-9cf006c821fd"
      },
      "execution_count": null,
      "outputs": [
        {
          "output_type": "execute_result",
          "data": {
            "text/plain": [
              "<tf.Variable 'UnreadVariable' shape=(3, 2) dtype=float32, numpy=\n",
              "array([[5., 2.],\n",
              "       [2., 2.],\n",
              "       [2., 2.]], dtype=float32)>"
            ]
          },
          "metadata": {},
          "execution_count": 44
        }
      ]
    },
    {
      "cell_type": "code",
      "source": [
        "v.assign_sub(tf.ones((3,2)))"
      ],
      "metadata": {
        "colab": {
          "base_uri": "https://localhost:8080/"
        },
        "id": "rZZvHG8ALWlH",
        "outputId": "1c1605f5-cd8e-436b-c1b8-1e465cd1737e"
      },
      "execution_count": null,
      "outputs": [
        {
          "output_type": "execute_result",
          "data": {
            "text/plain": [
              "<tf.Variable 'UnreadVariable' shape=(3, 2) dtype=float32, numpy=\n",
              "array([[4., 1.],\n",
              "       [1., 1.],\n",
              "       [1., 1.]], dtype=float32)>"
            ]
          },
          "metadata": {},
          "execution_count": 46
        }
      ]
    },
    {
      "cell_type": "markdown",
      "source": [
        "# Tensor operations: Doing math in TensorFlow."
      ],
      "metadata": {
        "id": "1i3nAekDL1ij"
      }
    },
    {
      "cell_type": "markdown",
      "source": [
        "**A few basic math operations.**"
      ],
      "metadata": {
        "id": "qjzY_9kdMBXc"
      }
    },
    {
      "cell_type": "code",
      "source": [
        "a = tf.Variable(tf.ones((3,4)))"
      ],
      "metadata": {
        "id": "M4BjS669LaGj"
      },
      "execution_count": null,
      "outputs": []
    },
    {
      "cell_type": "code",
      "source": [
        "b = tf.transpose(a.assign_add(tf.ones((3,4))))"
      ],
      "metadata": {
        "id": "mi1EGSzWMRvm"
      },
      "execution_count": null,
      "outputs": []
    },
    {
      "cell_type": "code",
      "source": [
        "tf.square(a)"
      ],
      "metadata": {
        "colab": {
          "base_uri": "https://localhost:8080/"
        },
        "id": "FtjuVJewMJN7",
        "outputId": "d3627330-7673-4b60-a8a2-2abf726e420d"
      },
      "execution_count": null,
      "outputs": [
        {
          "output_type": "execute_result",
          "data": {
            "text/plain": [
              "<tf.Tensor: shape=(3, 4), dtype=float32, numpy=\n",
              "array([[4., 4., 4., 4.],\n",
              "       [4., 4., 4., 4.],\n",
              "       [4., 4., 4., 4.]], dtype=float32)>"
            ]
          },
          "metadata": {},
          "execution_count": 77
        }
      ]
    },
    {
      "cell_type": "code",
      "source": [
        "print(b)"
      ],
      "metadata": {
        "colab": {
          "base_uri": "https://localhost:8080/"
        },
        "id": "xLFQF7RfMLjt",
        "outputId": "5f7f662f-cb80-4cc8-ae48-adec979c3592"
      },
      "execution_count": null,
      "outputs": [
        {
          "output_type": "stream",
          "name": "stdout",
          "text": [
            "tf.Tensor(\n",
            "[[2. 2. 2.]\n",
            " [2. 2. 2.]\n",
            " [2. 2. 2.]\n",
            " [2. 2. 2.]], shape=(4, 3), dtype=float32)\n"
          ]
        }
      ]
    },
    {
      "cell_type": "code",
      "source": [
        "a ** 3"
      ],
      "metadata": {
        "colab": {
          "base_uri": "https://localhost:8080/"
        },
        "id": "Q4Wd4P6RMMww",
        "outputId": "c5280f8b-3a3d-44b4-f1a5-499e83c7c61e"
      },
      "execution_count": null,
      "outputs": [
        {
          "output_type": "execute_result",
          "data": {
            "text/plain": [
              "<tf.Tensor: shape=(3, 4), dtype=float32, numpy=\n",
              "array([[8., 8., 8., 8.],\n",
              "       [8., 8., 8., 8.],\n",
              "       [8., 8., 8., 8.]], dtype=float32)>"
            ]
          },
          "metadata": {},
          "execution_count": 79
        }
      ]
    },
    {
      "cell_type": "code",
      "source": [
        "tf.sqrt(a)"
      ],
      "metadata": {
        "colab": {
          "base_uri": "https://localhost:8080/"
        },
        "id": "VvVHFq-sMOvy",
        "outputId": "13f06dee-6446-402d-8356-55e1860239cf"
      },
      "execution_count": null,
      "outputs": [
        {
          "output_type": "execute_result",
          "data": {
            "text/plain": [
              "<tf.Tensor: shape=(3, 4), dtype=float32, numpy=\n",
              "array([[1.4142135, 1.4142135, 1.4142135, 1.4142135],\n",
              "       [1.4142135, 1.4142135, 1.4142135, 1.4142135],\n",
              "       [1.4142135, 1.4142135, 1.4142135, 1.4142135]], dtype=float32)>"
            ]
          },
          "metadata": {},
          "execution_count": 80
        }
      ]
    },
    {
      "cell_type": "code",
      "source": [
        "tf.matmul(a,b)"
      ],
      "metadata": {
        "colab": {
          "base_uri": "https://localhost:8080/"
        },
        "id": "oa-eARMQMwM_",
        "outputId": "8cd28f67-3776-4b76-e8da-b08d99ab3d79"
      },
      "execution_count": null,
      "outputs": [
        {
          "output_type": "execute_result",
          "data": {
            "text/plain": [
              "<tf.Tensor: shape=(3, 3), dtype=float32, numpy=\n",
              "array([[16., 16., 16.],\n",
              "       [16., 16., 16.],\n",
              "       [16., 16., 16.]], dtype=float32)>"
            ]
          },
          "metadata": {},
          "execution_count": 81
        }
      ]
    },
    {
      "cell_type": "markdown",
      "source": [
        "# Using the GradientTape."
      ],
      "metadata": {
        "id": "JjGx3yALPk2g"
      }
    },
    {
      "cell_type": "code",
      "source": [
        "input_var = tf.Variable(initial_value = 4.)"
      ],
      "metadata": {
        "id": "Z8BRbdPoP0fu"
      },
      "execution_count": null,
      "outputs": []
    },
    {
      "cell_type": "code",
      "source": [
        "with tf.GradientTape() as tape:\n",
        "  result = tf.square(input_var)\n",
        "gradient = tape.gradient(result,input_var)"
      ],
      "metadata": {
        "id": "9C-xwlUmP7kJ"
      },
      "execution_count": null,
      "outputs": []
    },
    {
      "cell_type": "code",
      "source": [
        "gradient"
      ],
      "metadata": {
        "colab": {
          "base_uri": "https://localhost:8080/"
        },
        "id": "5tpnylD6QtkX",
        "outputId": "406dbe2e-232a-46d1-efc0-7eaacc326d4b"
      },
      "execution_count": null,
      "outputs": [
        {
          "output_type": "execute_result",
          "data": {
            "text/plain": [
              "<tf.Tensor: shape=(), dtype=float32, numpy=8.0>"
            ]
          },
          "metadata": {},
          "execution_count": 94
        }
      ]
    },
    {
      "cell_type": "markdown",
      "source": [
        "**Using GradientTape with constant tensor inputs.**"
      ],
      "metadata": {
        "id": "ocNFoHgkR7_x"
      }
    },
    {
      "cell_type": "code",
      "source": [
        "input_const = tf.constant(3.)"
      ],
      "metadata": {
        "id": "p6KJR2CcRLSX"
      },
      "execution_count": null,
      "outputs": []
    },
    {
      "cell_type": "code",
      "source": [
        "with tf.GradientTape() as tape:\n",
        "  tape.watch(input_const)\n",
        "  result = tf.square(input_const)\n",
        "gradient = tape.gradient(result,input_const)\n"
      ],
      "metadata": {
        "id": "WVu7SxjkSVN6"
      },
      "execution_count": null,
      "outputs": []
    },
    {
      "cell_type": "markdown",
      "source": [
        "**Using nested gradient tapes to compute second-order gradients.**"
      ],
      "metadata": {
        "id": "t8RYUIzkVHBG"
      }
    },
    {
      "cell_type": "code",
      "source": [
        "time  =  tf.Variable(3.)\n",
        "with tf.GradientTape() as outer_tape:\n",
        "  with tf.GradientTape() as inner_tape:\n",
        "    position = 4.9 * time ** 2\n",
        "  speed = inner_tape.gradient(position,time)\n",
        "acceleration  = outer_tape.gradient(speed, time)\n",
        "print(speed,acceleration)"
      ],
      "metadata": {
        "colab": {
          "base_uri": "https://localhost:8080/"
        },
        "id": "vnW5dghgTCG3",
        "outputId": "84f4590d-b792-43c3-d408-04172a144b20"
      },
      "execution_count": null,
      "outputs": [
        {
          "output_type": "stream",
          "name": "stdout",
          "text": [
            "tf.Tensor(29.400002, shape=(), dtype=float32) tf.Tensor(9.8, shape=(), dtype=float32)\n"
          ]
        }
      ]
    },
    {
      "cell_type": "markdown",
      "source": [
        "# An end-to-end example: A linear classifier in pure TensorFlow."
      ],
      "metadata": {
        "id": "XVy3taVgbYc6"
      }
    },
    {
      "cell_type": "markdown",
      "source": [
        "In a machine learning job interview, you may be asked to implement a linear classifier from scratch in TensorFlow: a very simple task that serves as a filter between candidates who have some minimal machine learning background and those who don’t."
      ],
      "metadata": {
        "id": "A-n-wJB7boL5"
      }
    },
    {
      "cell_type": "markdown",
      "source": [
        "**Generating two classes of random points in a 2D plane.**"
      ],
      "metadata": {
        "id": "2qIe1SRLcC5i"
      }
    },
    {
      "cell_type": "code",
      "source": [
        "num_samples_per_class = 1000\n",
        "negative_samples = np.random.multivariate_normal(mean = [0,3],cov = [[1,0.5],[0.5,1]],size  = num_samples_per_class)\n",
        "positive_samples = np.random.multivariate_normal(mean = [3,0],cov = [[1,0.5],[0.5,1]],size  = num_samples_per_class)"
      ],
      "metadata": {
        "id": "Eej0hDlWYt6n"
      },
      "execution_count": null,
      "outputs": []
    },
    {
      "cell_type": "code",
      "source": [
        "negative_samples.shape"
      ],
      "metadata": {
        "colab": {
          "base_uri": "https://localhost:8080/"
        },
        "id": "Cjrrme24ccMz",
        "outputId": "fb4a1f4b-8316-4788-a95e-3c22c3e72aba"
      },
      "execution_count": null,
      "outputs": [
        {
          "output_type": "execute_result",
          "data": {
            "text/plain": [
              "(1000, 2)"
            ]
          },
          "metadata": {},
          "execution_count": 117
        }
      ]
    },
    {
      "cell_type": "markdown",
      "source": [
        "**Stacking the two classes into an array with shape (2000, 2).**"
      ],
      "metadata": {
        "id": "OJmQM20xc5u1"
      }
    },
    {
      "cell_type": "code",
      "source": [
        "inputs  = np.vstack((negative_samples,positive_samples)).astype(np.float32)"
      ],
      "metadata": {
        "id": "D65fNVz0cxR9"
      },
      "execution_count": null,
      "outputs": []
    },
    {
      "cell_type": "markdown",
      "source": [
        "**Generating the corresponding targets (0 and 1).**"
      ],
      "metadata": {
        "id": "x7wjeO0pdTRU"
      }
    },
    {
      "cell_type": "code",
      "source": [
        "targets  = np.vstack((np.zeros((num_samples_per_class,1),dtype = np.float32),np.ones((num_samples_per_class,1),dtype = np.float32)))"
      ],
      "metadata": {
        "id": "9Ms19RDbdGyA"
      },
      "execution_count": null,
      "outputs": []
    },
    {
      "cell_type": "code",
      "source": [
        "targets.shape"
      ],
      "metadata": {
        "colab": {
          "base_uri": "https://localhost:8080/"
        },
        "id": "wuiYJHREdfZh",
        "outputId": "b023fdc7-f1d8-4efc-a279-14bed4eec08b"
      },
      "execution_count": null,
      "outputs": [
        {
          "output_type": "execute_result",
          "data": {
            "text/plain": [
              "(2000, 1)"
            ]
          },
          "metadata": {},
          "execution_count": 128
        }
      ]
    },
    {
      "cell_type": "code",
      "source": [
        "targets.dtype"
      ],
      "metadata": {
        "colab": {
          "base_uri": "https://localhost:8080/"
        },
        "id": "s2qZAdhEdkT3",
        "outputId": "ef361cec-dcb1-4ae0-e6ab-37c6078f6cb3"
      },
      "execution_count": null,
      "outputs": [
        {
          "output_type": "execute_result",
          "data": {
            "text/plain": [
              "dtype('float32')"
            ]
          },
          "metadata": {},
          "execution_count": 129
        }
      ]
    },
    {
      "cell_type": "markdown",
      "source": [
        "**Plotting the two point classes**"
      ],
      "metadata": {
        "id": "lUk0O36Md5NO"
      }
    },
    {
      "cell_type": "code",
      "source": [
        "import matplotlib.pyplot as plt\n",
        "plt.scatter(inputs[:,0], inputs[:,1],c = targets)"
      ],
      "metadata": {
        "colab": {
          "base_uri": "https://localhost:8080/",
          "height": 448
        },
        "id": "vPqfZXIdd2Q4",
        "outputId": "f8b53a2a-913f-43f1-83c6-9a49a178b2c5"
      },
      "execution_count": null,
      "outputs": [
        {
          "output_type": "execute_result",
          "data": {
            "text/plain": [
              "<matplotlib.collections.PathCollection at 0x7ed245c66f90>"
            ]
          },
          "metadata": {},
          "execution_count": 173
        },
        {
          "output_type": "display_data",
          "data": {
            "text/plain": [
              "<Figure size 640x480 with 1 Axes>"
            ],
            "image/png": "[encoded data removed]"
          },
          "metadata": {}
        }
      ]
    },
    {
      "cell_type": "markdown",
      "source": [
        "**Now let’s create a linear classifier that can learn to separate these two blobs. A linear\n",
        "classifier is an affine transformation (prediction = W • input + b) trained to minimize\n",
        "the square of the difference between predictions and the targets.**"
      ],
      "metadata": {
        "id": "lf_KWRR-hoaH"
      }
    },
    {
      "cell_type": "markdown",
      "source": [
        "**Creating the linear classifier variables.**"
      ],
      "metadata": {
        "id": "muqgDVfuh2fy"
      }
    },
    {
      "cell_type": "code",
      "source": [
        "input_dim = 2\n",
        "output_dim = 1\n",
        "W = tf.Variable(initial_value=tf.random.uniform(shape=(input_dim,output_dim)))\n",
        "b = tf.Variable(initial_value=tf.random.uniform(shape = (output_dim,)))"
      ],
      "metadata": {
        "id": "t6WA8Mo7eEyU"
      },
      "execution_count": null,
      "outputs": []
    },
    {
      "cell_type": "markdown",
      "source": [
        "**The forward pass function.**"
      ],
      "metadata": {
        "id": "Yv9FqOqRiwuJ"
      }
    },
    {
      "cell_type": "code",
      "source": [
        "def model(inputs):\n",
        "  return tf.matmul(inputs,W) + b"
      ],
      "metadata": {
        "id": "bPlUexM4ioYe"
      },
      "execution_count": null,
      "outputs": []
    },
    {
      "cell_type": "markdown",
      "source": [
        "**The mean squared error loss function.**"
      ],
      "metadata": {
        "id": "Zie1O3r9kH_-"
      }
    },
    {
      "cell_type": "code",
      "source": [
        "def square_loss(inputs,predictions):\n",
        "  per_sample_losses  = tf.square(targets - predictions)\n",
        "  return tf.reduce_mean(per_sample_losses)"
      ],
      "metadata": {
        "id": "1AUt9XyviqQz"
      },
      "execution_count": null,
      "outputs": []
    },
    {
      "cell_type": "markdown",
      "source": [
        "**The training step function**"
      ],
      "metadata": {
        "id": "zpxwGg5elkNx"
      }
    },
    {
      "cell_type": "code",
      "source": [
        "learning_rate = 0.01\n",
        "def training_step(inputs,targets):\n",
        "  with tf.GradientTape() as tape:\n",
        "    predictions  = model(inputs)\n",
        "    loss = square_loss(targets,predictions)\n",
        "  grad_loss_wrt_W, grad_loss_wrt_b = tape.gradient(loss,[W, b])\n",
        "  W.assign_sub(grad_loss_wrt_W * learning_rate)\n",
        "  b.assign_sub(grad_loss_wrt_b * learning_rate)\n",
        "  return loss"
      ],
      "metadata": {
        "id": "iHjiYUJAksrO"
      },
      "execution_count": null,
      "outputs": []
    },
    {
      "cell_type": "markdown",
      "source": [
        "**The batch training loop.**"
      ],
      "metadata": {
        "id": "HMqGlGgAnLOn"
      }
    },
    {
      "cell_type": "code",
      "source": [
        "for step in range(40):\n",
        "  loss = training_step(inputs,targets)\n",
        "  # print(f\"loss at step {step} is {loss}\")"
      ],
      "metadata": {
        "id": "U5gtADlLm5cb"
      },
      "execution_count": null,
      "outputs": []
    },
    {
      "cell_type": "code",
      "source": [
        "predictions = model(inputs)"
      ],
      "metadata": {
        "id": "tT1vwj2Cnnei"
      },
      "execution_count": null,
      "outputs": []
    },
    {
      "cell_type": "code",
      "source": [
        "x = np.linspace(-1,4,1000)\n",
        "y = -W[0] / W[1] * x + (0.5 - b)/ W[1]\n",
        "plt.plot(x,y,'-r')\n",
        "plt.scatter(inputs[:,0], inputs[:,1],c=predictions > 0.5)"
      ],
      "metadata": {
        "colab": {
          "base_uri": "https://localhost:8080/",
          "height": 448
        },
        "id": "9wz6OIxXoJ6V",
        "outputId": "a4730c62-2048-46b1-b473-c451c9819535"
      },
      "execution_count": null,
      "outputs": [
        {
          "output_type": "execute_result",
          "data": {
            "text/plain": [
              "<matplotlib.collections.PathCollection at 0x7ed24411e110>"
            ]
          },
          "metadata": {},
          "execution_count": 185
        },
        {
          "output_type": "display_data",
          "data": {
            "text/plain": [
              "<Figure size 640x480 with 1 Axes>"
            ],
            "image/png": "[encoded data removed]"
          },
          "metadata": {}
        }
      ]
    },
    {
      "cell_type": "code",
      "source": [],
      "metadata": {
        "id": "mgLNZZwhoQ0n"
      },
      "execution_count": null,
      "outputs": []
    }
  ]
}